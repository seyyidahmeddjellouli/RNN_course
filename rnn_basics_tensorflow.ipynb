{
  "cells": [
    {
      "cell_type": "markdown",
      "metadata": {
        "id": "view-in-github",
        "colab_type": "text"
      },
      "source": [
        "<a href=\"https://colab.research.google.com/github/seyyidahmeddjellouli/RNN_course/blob/main/rnn_basics_tensorflow.ipynb\" target=\"_parent\"><img src=\"https://colab.research.google.com/assets/colab-badge.svg\" alt=\"Open In Colab\"/></a>"
      ]
    },
    {
      "cell_type": "code",
      "source": [
        "import tensorflow as tf\n",
        "import numpy as np\n",
        "\n",
        "def build_and_train_network(lstm_sizes, vocab_size, embed_size, epochs, batch_size, learning_rate, keep_prob, train_x, val_x, train_y, val_y):\n",
        "    tf.compat.v1.reset_default_graph()\n",
        "\n",
        "    inputs = tf.compat.v1.placeholder(tf.int32, [None, None])\n",
        "    labels = tf.compat.v1.placeholder(tf.int32, [None])\n",
        "    keep_prob_ = tf.compat.v1.placeholder(tf.float32)\n",
        "\n",
        "    # Create embeddings\n",
        "    embed = tf.keras.layers.Embedding(vocab_size, embed_size)(inputs)\n",
        "\n",
        "    # Build LSTM layers\n",
        "    cells = [tf.keras.layers.LSTMCell(size) for size in lstm_sizes]\n",
        "    stacked_lstm = tf.keras.layers.StackedRNNCells(cells)\n",
        "    rnn_layer = tf.keras.layers.RNN(stacked_lstm, return_sequences=True)\n",
        "    lstm_outputs = rnn_layer(embed)\n",
        "\n",
        "    # Fully connected layer\n",
        "    predictions = tf.keras.layers.Dense(1, activation=tf.nn.sigmoid)(lstm_outputs[:, -1, :])\n",
        "\n",
        "    loss = tf.reduce_mean(tf.keras.losses.binary_crossentropy(labels, predictions))\n",
        "    optimizer = tf.compat.v1.train.AdamOptimizer(learning_rate).minimize(loss)\n",
        "    accuracy = tf.reduce_mean(tf.cast(tf.equal(tf.cast(tf.round(predictions), tf.int32), labels), tf.float32))\n",
        "\n",
        "    with tf.compat.v1.Session() as sess:\n",
        "        sess.run(tf.compat.v1.global_variables_initializer())\n",
        "\n",
        "        for epoch in range(epochs):\n",
        "            for batch_x, batch_y in batches(train_x, train_y, batch_size):\n",
        "                feed_dict = {inputs: batch_x, labels: batch_y, keep_prob_: keep_prob}\n",
        "                sess.run(optimizer, feed_dict=feed_dict)\n",
        "\n",
        "            val_acc = sess.run(accuracy, feed_dict={inputs: val_x, labels: val_y, keep_prob_: 1.0})\n",
        "            print(f\"Epoch {epoch+1}/{epochs}, Validation Accuracy: {val_acc:.4f}\")\n",
        "\n",
        "def batches(x, y, batch_size):\n",
        "    for i in range(0, len(x), batch_size):\n",
        "        yield x[i:i+batch_size], y[i:i+batch_size]\n",
        "\n",
        "# Example usage\n",
        "lstm_sizes = [128, 64]\n",
        "vocab_size = 10000\n",
        "embed_size = 300\n",
        "epochs = 10\n",
        "batch_size = 64\n",
        "learning_rate = 0.001\n",
        "keep_prob = 0.5\n",
        "\n",
        "# Generate random training and validation data\n",
        "num_train_samples = 1000\n",
        "num_val_samples = 200\n",
        "seq_length = 50\n",
        "\n",
        "train_x = np.random.randint(0, vocab_size, size=(num_train_samples, seq_length))\n",
        "val_x = np.random.randint(0, vocab_size, size=(num_val_samples, seq_length))\n",
        "train_y = np.random.randint(0, 2, size=num_train_samples)\n",
        "val_y = np.random.randint(0, 2, size=num_val_samples)\n",
        "\n",
        "build_and_train_network(lstm_sizes, vocab_size, embed_size, epochs, batch_size,\n",
        "                        learning_rate, keep_prob, train_x, val_x, train_y, val_y)\n"
      ],
      "metadata": {
        "colab": {
          "base_uri": "https://localhost:8080/",
          "height": 388
        },
        "id": "8E3f3CXyHuta",
        "outputId": "f92b10a6-c541-462b-907f-e48c317059ac"
      },
      "execution_count": 41,
      "outputs": [
        {
          "output_type": "error",
          "ename": "ValueError",
          "evalue": "ignored",
          "traceback": [
            "\u001b[0;31m---------------------------------------------------------------------------\u001b[0m",
            "\u001b[0;31mValueError\u001b[0m                                Traceback (most recent call last)",
            "\u001b[0;32m<ipython-input-41-a066beb0f651>\u001b[0m in \u001b[0;36m<cell line: 61>\u001b[0;34m()\u001b[0m\n\u001b[1;32m     59\u001b[0m \u001b[0mval_y\u001b[0m \u001b[0;34m=\u001b[0m \u001b[0mnp\u001b[0m\u001b[0;34m.\u001b[0m\u001b[0mrandom\u001b[0m\u001b[0;34m.\u001b[0m\u001b[0mrandint\u001b[0m\u001b[0;34m(\u001b[0m\u001b[0;36m0\u001b[0m\u001b[0;34m,\u001b[0m \u001b[0;36m2\u001b[0m\u001b[0;34m,\u001b[0m \u001b[0msize\u001b[0m\u001b[0;34m=\u001b[0m\u001b[0mnum_val_samples\u001b[0m\u001b[0;34m)\u001b[0m\u001b[0;34m\u001b[0m\u001b[0;34m\u001b[0m\u001b[0m\n\u001b[1;32m     60\u001b[0m \u001b[0;34m\u001b[0m\u001b[0m\n\u001b[0;32m---> 61\u001b[0;31m build_and_train_network(lstm_sizes, vocab_size, embed_size, epochs, batch_size,\n\u001b[0m\u001b[1;32m     62\u001b[0m                         learning_rate, keep_prob, train_x, val_x, train_y, val_y)\n",
            "\u001b[0;32m<ipython-input-41-a066beb0f651>\u001b[0m in \u001b[0;36mbuild_and_train_network\u001b[0;34m(lstm_sizes, vocab_size, embed_size, epochs, batch_size, learning_rate, keep_prob, train_x, val_x, train_y, val_y)\u001b[0m\n\u001b[1;32m     21\u001b[0m     \u001b[0mpredictions\u001b[0m \u001b[0;34m=\u001b[0m \u001b[0mtf\u001b[0m\u001b[0;34m.\u001b[0m\u001b[0mkeras\u001b[0m\u001b[0;34m.\u001b[0m\u001b[0mlayers\u001b[0m\u001b[0;34m.\u001b[0m\u001b[0mDense\u001b[0m\u001b[0;34m(\u001b[0m\u001b[0;36m1\u001b[0m\u001b[0;34m,\u001b[0m \u001b[0mactivation\u001b[0m\u001b[0;34m=\u001b[0m\u001b[0mtf\u001b[0m\u001b[0;34m.\u001b[0m\u001b[0mnn\u001b[0m\u001b[0;34m.\u001b[0m\u001b[0msigmoid\u001b[0m\u001b[0;34m)\u001b[0m\u001b[0;34m(\u001b[0m\u001b[0mlstm_outputs\u001b[0m\u001b[0;34m[\u001b[0m\u001b[0;34m:\u001b[0m\u001b[0;34m,\u001b[0m \u001b[0;34m-\u001b[0m\u001b[0;36m1\u001b[0m\u001b[0;34m,\u001b[0m \u001b[0;34m:\u001b[0m\u001b[0;34m]\u001b[0m\u001b[0;34m)\u001b[0m\u001b[0;34m\u001b[0m\u001b[0;34m\u001b[0m\u001b[0m\n\u001b[1;32m     22\u001b[0m \u001b[0;34m\u001b[0m\u001b[0m\n\u001b[0;32m---> 23\u001b[0;31m     \u001b[0mloss\u001b[0m \u001b[0;34m=\u001b[0m \u001b[0mtf\u001b[0m\u001b[0;34m.\u001b[0m\u001b[0mreduce_mean\u001b[0m\u001b[0;34m(\u001b[0m\u001b[0mtf\u001b[0m\u001b[0;34m.\u001b[0m\u001b[0mkeras\u001b[0m\u001b[0;34m.\u001b[0m\u001b[0mlosses\u001b[0m\u001b[0;34m.\u001b[0m\u001b[0mbinary_crossentropy\u001b[0m\u001b[0;34m(\u001b[0m\u001b[0mlabels\u001b[0m\u001b[0;34m,\u001b[0m \u001b[0mpredictions\u001b[0m\u001b[0;34m)\u001b[0m\u001b[0;34m)\u001b[0m\u001b[0;34m\u001b[0m\u001b[0;34m\u001b[0m\u001b[0m\n\u001b[0m\u001b[1;32m     24\u001b[0m     \u001b[0moptimizer\u001b[0m \u001b[0;34m=\u001b[0m \u001b[0mtf\u001b[0m\u001b[0;34m.\u001b[0m\u001b[0mcompat\u001b[0m\u001b[0;34m.\u001b[0m\u001b[0mv1\u001b[0m\u001b[0;34m.\u001b[0m\u001b[0mtrain\u001b[0m\u001b[0;34m.\u001b[0m\u001b[0mAdamOptimizer\u001b[0m\u001b[0;34m(\u001b[0m\u001b[0mlearning_rate\u001b[0m\u001b[0;34m)\u001b[0m\u001b[0;34m.\u001b[0m\u001b[0mminimize\u001b[0m\u001b[0;34m(\u001b[0m\u001b[0mloss\u001b[0m\u001b[0;34m)\u001b[0m\u001b[0;34m\u001b[0m\u001b[0;34m\u001b[0m\u001b[0m\n\u001b[1;32m     25\u001b[0m     \u001b[0maccuracy\u001b[0m \u001b[0;34m=\u001b[0m \u001b[0mtf\u001b[0m\u001b[0;34m.\u001b[0m\u001b[0mreduce_mean\u001b[0m\u001b[0;34m(\u001b[0m\u001b[0mtf\u001b[0m\u001b[0;34m.\u001b[0m\u001b[0mcast\u001b[0m\u001b[0;34m(\u001b[0m\u001b[0mtf\u001b[0m\u001b[0;34m.\u001b[0m\u001b[0mequal\u001b[0m\u001b[0;34m(\u001b[0m\u001b[0mtf\u001b[0m\u001b[0;34m.\u001b[0m\u001b[0mcast\u001b[0m\u001b[0;34m(\u001b[0m\u001b[0mtf\u001b[0m\u001b[0;34m.\u001b[0m\u001b[0mround\u001b[0m\u001b[0;34m(\u001b[0m\u001b[0mpredictions\u001b[0m\u001b[0;34m)\u001b[0m\u001b[0;34m,\u001b[0m \u001b[0mtf\u001b[0m\u001b[0;34m.\u001b[0m\u001b[0mint32\u001b[0m\u001b[0;34m)\u001b[0m\u001b[0;34m,\u001b[0m \u001b[0mlabels\u001b[0m\u001b[0;34m)\u001b[0m\u001b[0;34m,\u001b[0m \u001b[0mtf\u001b[0m\u001b[0;34m.\u001b[0m\u001b[0mfloat32\u001b[0m\u001b[0;34m)\u001b[0m\u001b[0;34m)\u001b[0m\u001b[0;34m\u001b[0m\u001b[0;34m\u001b[0m\u001b[0m\n",
            "\u001b[0;32m/usr/local/lib/python3.10/dist-packages/tensorflow/python/util/traceback_utils.py\u001b[0m in \u001b[0;36merror_handler\u001b[0;34m(*args, **kwargs)\u001b[0m\n\u001b[1;32m    151\u001b[0m     \u001b[0;32mexcept\u001b[0m \u001b[0mException\u001b[0m \u001b[0;32mas\u001b[0m \u001b[0me\u001b[0m\u001b[0;34m:\u001b[0m\u001b[0;34m\u001b[0m\u001b[0;34m\u001b[0m\u001b[0m\n\u001b[1;32m    152\u001b[0m       \u001b[0mfiltered_tb\u001b[0m \u001b[0;34m=\u001b[0m \u001b[0m_process_traceback_frames\u001b[0m\u001b[0;34m(\u001b[0m\u001b[0me\u001b[0m\u001b[0;34m.\u001b[0m\u001b[0m__traceback__\u001b[0m\u001b[0;34m)\u001b[0m\u001b[0;34m\u001b[0m\u001b[0;34m\u001b[0m\u001b[0m\n\u001b[0;32m--> 153\u001b[0;31m       \u001b[0;32mraise\u001b[0m \u001b[0me\u001b[0m\u001b[0;34m.\u001b[0m\u001b[0mwith_traceback\u001b[0m\u001b[0;34m(\u001b[0m\u001b[0mfiltered_tb\u001b[0m\u001b[0;34m)\u001b[0m \u001b[0;32mfrom\u001b[0m \u001b[0;32mNone\u001b[0m\u001b[0;34m\u001b[0m\u001b[0;34m\u001b[0m\u001b[0m\n\u001b[0m\u001b[1;32m    154\u001b[0m     \u001b[0;32mfinally\u001b[0m\u001b[0;34m:\u001b[0m\u001b[0;34m\u001b[0m\u001b[0;34m\u001b[0m\u001b[0m\n\u001b[1;32m    155\u001b[0m       \u001b[0;32mdel\u001b[0m \u001b[0mfiltered_tb\u001b[0m\u001b[0;34m\u001b[0m\u001b[0;34m\u001b[0m\u001b[0m\n",
            "\u001b[0;32m/usr/local/lib/python3.10/dist-packages/keras/losses.py\u001b[0m in \u001b[0;36mbinary_crossentropy\u001b[0;34m(y_true, y_pred, from_logits, label_smoothing, axis)\u001b[0m\n\u001b[1;32m   2154\u001b[0m \u001b[0;34m\u001b[0m\u001b[0m\n\u001b[1;32m   2155\u001b[0m     return backend.mean(\n\u001b[0;32m-> 2156\u001b[0;31m         \u001b[0mbackend\u001b[0m\u001b[0;34m.\u001b[0m\u001b[0mbinary_crossentropy\u001b[0m\u001b[0;34m(\u001b[0m\u001b[0my_true\u001b[0m\u001b[0;34m,\u001b[0m \u001b[0my_pred\u001b[0m\u001b[0;34m,\u001b[0m \u001b[0mfrom_logits\u001b[0m\u001b[0;34m=\u001b[0m\u001b[0mfrom_logits\u001b[0m\u001b[0;34m)\u001b[0m\u001b[0;34m,\u001b[0m\u001b[0;34m\u001b[0m\u001b[0;34m\u001b[0m\u001b[0m\n\u001b[0m\u001b[1;32m   2157\u001b[0m         \u001b[0maxis\u001b[0m\u001b[0;34m=\u001b[0m\u001b[0maxis\u001b[0m\u001b[0;34m,\u001b[0m\u001b[0;34m\u001b[0m\u001b[0;34m\u001b[0m\u001b[0m\n\u001b[1;32m   2158\u001b[0m     )\n",
            "\u001b[0;32m/usr/local/lib/python3.10/dist-packages/keras/backend.py\u001b[0m in \u001b[0;36mbinary_crossentropy\u001b[0;34m(target, output, from_logits)\u001b[0m\n\u001b[1;32m   5705\u001b[0m     )\n\u001b[1;32m   5706\u001b[0m     \u001b[0;32mif\u001b[0m \u001b[0mfrom_logits\u001b[0m\u001b[0;34m:\u001b[0m\u001b[0;34m\u001b[0m\u001b[0;34m\u001b[0m\u001b[0m\n\u001b[0;32m-> 5707\u001b[0;31m         return tf.nn.sigmoid_cross_entropy_with_logits(\n\u001b[0m\u001b[1;32m   5708\u001b[0m             \u001b[0mlabels\u001b[0m\u001b[0;34m=\u001b[0m\u001b[0mtarget\u001b[0m\u001b[0;34m,\u001b[0m \u001b[0mlogits\u001b[0m\u001b[0;34m=\u001b[0m\u001b[0moutput\u001b[0m\u001b[0;34m\u001b[0m\u001b[0;34m\u001b[0m\u001b[0m\n\u001b[1;32m   5709\u001b[0m         )\n",
            "\u001b[0;31mValueError\u001b[0m: `logits` and `labels` must have the same shape, received ((?, 1) vs (?,))."
          ]
        }
      ]
    },
    {
      "cell_type": "code",
      "source": [
        "import tensorflow as tf\n",
        "import numpy as np\n",
        "\n",
        "def build_and_train_network(lstm_sizes, vocab_size, embed_size, epochs, batch_size, learning_rate, keep_prob, train_x, val_x, train_y, val_y):\n",
        "    tf.compat.v1.reset_default_graph()\n",
        "\n",
        "    inputs = tf.compat.v1.placeholder(tf.int32, [None, None])\n",
        "    labels = tf.compat.v1.placeholder(tf.float32, [None, 1])  # Change the shape to match logits\n",
        "    keep_prob_ = tf.compat.v1.placeholder(tf.float32)\n",
        "\n",
        "    # Create embeddings\n",
        "    embed = tf.keras.layers.Embedding(vocab_size, embed_size)(inputs)\n",
        "\n",
        "    # Build LSTM layers\n",
        "    cells = [tf.keras.layers.LSTMCell(size) for size in lstm_sizes]\n",
        "    stacked_lstm = tf.keras.layers.StackedRNNCells(cells)\n",
        "    rnn_layer = tf.keras.layers.RNN(stacked_lstm, return_sequences=True)\n",
        "    lstm_outputs = rnn_layer(embed)\n",
        "\n",
        "    # Fully connected layer\n",
        "    predictions = tf.keras.layers.Dense(1, activation=tf.nn.sigmoid)(lstm_outputs[:, -1, :])\n",
        "\n",
        "    loss = tf.reduce_mean(tf.keras.losses.binary_crossentropy(labels, predictions))\n",
        "    optimizer = tf.compat.v1.train.AdamOptimizer(learning_rate).minimize(loss)\n",
        "    accuracy = tf.reduce_mean(tf.cast(tf.equal(tf.cast(tf.round(predictions), tf.float32), labels), tf.float32))\n",
        "\n",
        "    with tf.compat.v1.Session() as sess:\n",
        "        sess.run(tf.compat.v1.global_variables_initializer())\n",
        "\n",
        "        for epoch in range(epochs):\n",
        "            for batch_x, batch_y in batches(train_x, train_y, batch_size):\n",
        "                feed_dict = {inputs: batch_x, labels: batch_y, keep_prob_: keep_prob}\n",
        "                sess.run(optimizer, feed_dict=feed_dict)\n",
        "\n",
        "            val_acc = sess.run(accuracy, feed_dict={inputs: val_x, labels: val_y, keep_prob_: 1.0})\n",
        "            print(f\"Epoch {epoch+1}/{epochs}, Validation Accuracy: {val_acc:.4f}\")\n",
        "\n",
        "def batches(x, y, batch_size):\n",
        "    for i in range(0, len(x), batch_size):\n",
        "        yield x[i:i+batch_size], y[i:i+batch_size]\n",
        "\n",
        "# Example usage\n",
        "lstm_sizes = [128, 64]\n",
        "vocab_size = 10000\n",
        "embed_size = 300\n",
        "epochs = 10\n",
        "batch_size = 64\n",
        "learning_rate = 0.001\n",
        "keep_prob = 0.5\n",
        "\n",
        "# Generate random training and validation data\n",
        "num_train_samples = 1000\n",
        "num_val_samples = 200\n",
        "seq_length = 50\n",
        "\n",
        "train_x = np.random.randint(0, vocab_size, size=(num_train_samples, seq_length))\n",
        "val_x = np.random.randint(0, vocab_size, size=(num_val_samples, seq_length))\n",
        "train_y = np.random.randint(0, 2, size=(num_train_samples, 1))\n",
        "val_y = np.random.randint(0, 2, size=(num_val_samples, 1))\n",
        "\n",
        "build_and_train_network(lstm_sizes, vocab_size, embed_size, epochs, batch_size,\n",
        "                        learning_rate, keep_prob, train_x, val_x, train_y, val_y)\n"
      ],
      "metadata": {
        "colab": {
          "base_uri": "https://localhost:8080/"
        },
        "id": "RbrHZdkuISkE",
        "outputId": "b848ba1d-d91f-422d-c8bc-6aed88fdc632"
      },
      "execution_count": 42,
      "outputs": [
        {
          "output_type": "stream",
          "name": "stdout",
          "text": [
            "Epoch 1/10, Validation Accuracy: 0.5100\n",
            "Epoch 2/10, Validation Accuracy: 0.5150\n",
            "Epoch 3/10, Validation Accuracy: 0.4800\n",
            "Epoch 4/10, Validation Accuracy: 0.5300\n",
            "Epoch 5/10, Validation Accuracy: 0.5200\n",
            "Epoch 6/10, Validation Accuracy: 0.5000\n",
            "Epoch 7/10, Validation Accuracy: 0.5200\n",
            "Epoch 8/10, Validation Accuracy: 0.5150\n",
            "Epoch 9/10, Validation Accuracy: 0.5200\n",
            "Epoch 10/10, Validation Accuracy: 0.5250\n"
          ]
        }
      ]
    },
    {
      "cell_type": "code",
      "source": [
        "import numpy as np\n",
        "import tensorflow as tf\n",
        "from tensorflow.keras.models import Sequential\n",
        "from tensorflow.keras.layers import Embedding, LSTM, Dense\n",
        "\n",
        "# Generate some example data\n",
        "num_samples = 1000\n",
        "sequence_length = 20\n",
        "vocab_size = 10000\n",
        "embedding_size = 100\n",
        "\n",
        "train_x = np.random.randint(0, vocab_size, size=(num_samples, sequence_length))\n",
        "train_y = np.random.randint(0, 2, size=(num_samples,))\n",
        "\n",
        "# Build the LSTM model\n",
        "model = Sequential()\n",
        "model.add(Embedding(input_dim=vocab_size, output_dim=embedding_size, input_length=sequence_length))\n",
        "model.add(LSTM(128, return_sequences=True))\n",
        "model.add(LSTM(64))\n",
        "model.add(Dense(1, activation='sigmoid'))\n",
        "\n",
        "model.compile(loss='binary_crossentropy', optimizer='adam', metrics=['accuracy'])\n",
        "\n",
        "# Train the model\n",
        "model.fit(train_x, train_y, epochs=10, batch_size=32, validation_split=0.2)\n"
      ],
      "metadata": {
        "colab": {
          "base_uri": "https://localhost:8080/"
        },
        "id": "RcSiIZ24KCQ7",
        "outputId": "934b25ba-ebc3-4ab8-d87e-1a7e90c09f7a"
      },
      "execution_count": 45,
      "outputs": [
        {
          "output_type": "stream",
          "name": "stdout",
          "text": [
            "Train on 800 samples, validate on 200 samples\n",
            "Epoch 1/10\n",
            "800/800 [==============================] - ETA: 0s - loss: 0.6940 - acc: 0.4863"
          ]
        },
        {
          "output_type": "stream",
          "name": "stderr",
          "text": [
            "/usr/local/lib/python3.10/dist-packages/keras/engine/training_v1.py:2335: UserWarning: `Model.state_updates` will be removed in a future version. This property should not be used in TensorFlow 2.0, as `updates` are applied automatically.\n",
            "  updates = self.state_updates\n"
          ]
        },
        {
          "output_type": "stream",
          "name": "stdout",
          "text": [
            "\b\b\b\b\b\b\b\b\b\b\b\b\b\b\b\b\b\b\b\b\b\b\b\b\b\b\b\b\b\b\b\b\b\b\b\b\b\b\b\b\b\b\b\b\b\b\b\b\b\b\b\b\b\b\b\b\b\b\b\b\b\b\b\b\b\b\b\b\b\b\b\b\b\b\b\b\b\b\b\r800/800 [==============================] - 2s 3ms/sample - loss: 0.6940 - acc: 0.4863 - val_loss: 0.6926 - val_acc: 0.5000\n",
            "Epoch 2/10\n",
            "800/800 [==============================] - 2s 2ms/sample - loss: 0.4360 - acc: 0.9450 - val_loss: 0.8665 - val_acc: 0.5200\n",
            "Epoch 3/10\n",
            "800/800 [==============================] - 2s 2ms/sample - loss: 0.0220 - acc: 0.9950 - val_loss: 1.4801 - val_acc: 0.5100\n",
            "Epoch 4/10\n",
            "800/800 [==============================] - 3s 3ms/sample - loss: 0.0016 - acc: 1.0000 - val_loss: 2.3775 - val_acc: 0.5300\n",
            "Epoch 5/10\n",
            "800/800 [==============================] - 2s 3ms/sample - loss: 5.2287e-04 - acc: 1.0000 - val_loss: 2.5403 - val_acc: 0.5200\n",
            "Epoch 6/10\n",
            "800/800 [==============================] - 2s 2ms/sample - loss: 3.5947e-04 - acc: 1.0000 - val_loss: 2.6417 - val_acc: 0.5200\n",
            "Epoch 7/10\n",
            "800/800 [==============================] - 2s 2ms/sample - loss: 2.7787e-04 - acc: 1.0000 - val_loss: 2.7296 - val_acc: 0.5200\n",
            "Epoch 8/10\n",
            "800/800 [==============================] - 2s 2ms/sample - loss: 2.2027e-04 - acc: 1.0000 - val_loss: 2.8109 - val_acc: 0.5200\n",
            "Epoch 9/10\n",
            "800/800 [==============================] - 2s 2ms/sample - loss: 1.7726e-04 - acc: 1.0000 - val_loss: 2.8850 - val_acc: 0.5200\n",
            "Epoch 10/10\n",
            "800/800 [==============================] - 2s 2ms/sample - loss: 1.4413e-04 - acc: 1.0000 - val_loss: 2.9526 - val_acc: 0.5150\n"
          ]
        },
        {
          "output_type": "execute_result",
          "data": {
            "text/plain": [
              "<keras.callbacks.History at 0x7878fe34f4f0>"
            ]
          },
          "metadata": {},
          "execution_count": 45
        }
      ]
    },
    {
      "cell_type": "code",
      "source": [
        "import numpy as np\n",
        "import tensorflow as tf\n",
        "from tensorflow.keras.models import Sequential\n",
        "from tensorflow.keras.layers import Embedding, LSTM, Dense\n",
        "import matplotlib.pyplot as plt\n",
        "\n",
        "# Generate some example data\n",
        "num_samples = 1000\n",
        "sequence_length = 20\n",
        "vocab_size = 10000\n",
        "embedding_size = 100\n",
        "\n",
        "train_x = np.random.randint(0, vocab_size, size=(num_samples, sequence_length))\n",
        "train_y = np.random.randint(0, 2, size=(num_samples,))\n",
        "\n",
        "# Build the LSTM model\n",
        "model = Sequential()\n",
        "model.add(Embedding(input_dim=vocab_size, output_dim=embedding_size, input_length=sequence_length))\n",
        "model.add(LSTM(128, return_sequences=True))\n",
        "model.add(LSTM(64))\n",
        "model.add(Dense(1, activation='sigmoid'))\n",
        "\n",
        "model.compile(loss='binary_crossentropy', optimizer='adam', metrics=['accuracy'])\n",
        "\n",
        "# Train the model\n",
        "history = model.fit(train_x, train_y, epochs=10, batch_size=32, validation_split=0.2)\n",
        "\n",
        "# Plot training and validation accuracy\n",
        "if 'accuracy' in history.history:\n",
        "    plt.plot(history.history['accuracy'], label='Training Accuracy')\n",
        "if 'acc' in history.history:\n",
        "    plt.plot(history.history['acc'], label='Training Accuracy')\n",
        "\n",
        "if 'val_accuracy' in history.history:\n",
        "    plt.plot(history.history['val_accuracy'], label='Validation Accuracy')\n",
        "if 'val_acc' in history.history:\n",
        "    plt.plot(history.history['val_acc'], label='Validation Accuracy')\n",
        "\n",
        "plt.xlabel('Epoch')\n",
        "plt.ylabel('Accuracy')\n",
        "plt.legend()\n",
        "plt.show()\n"
      ],
      "metadata": {
        "colab": {
          "base_uri": "https://localhost:8080/",
          "height": 833
        },
        "id": "x6Gn5fHVLZjN",
        "outputId": "8f8bca44-e572-4261-a39e-8ceeab35a6a1"
      },
      "execution_count": 47,
      "outputs": [
        {
          "output_type": "stream",
          "name": "stdout",
          "text": [
            "Train on 800 samples, validate on 200 samples\n",
            "Epoch 1/10\n",
            "800/800 [==============================] - 2s 3ms/sample - loss: 0.6898 - acc: 0.5487 - val_loss: 0.6923 - val_acc: 0.5250\n",
            "Epoch 2/10\n",
            "800/800 [==============================] - 4s 5ms/sample - loss: 0.4369 - acc: 0.7437 - val_loss: 0.8917 - val_acc: 0.4900\n",
            "Epoch 3/10\n",
            "800/800 [==============================] - 4s 5ms/sample - loss: 0.0243 - acc: 0.9987 - val_loss: 1.8404 - val_acc: 0.5500\n",
            "Epoch 4/10\n",
            "800/800 [==============================] - 2s 3ms/sample - loss: 0.0022 - acc: 1.0000 - val_loss: 2.1523 - val_acc: 0.5750\n",
            "Epoch 5/10\n",
            "800/800 [==============================] - 2s 2ms/sample - loss: 0.0011 - acc: 1.0000 - val_loss: 2.3398 - val_acc: 0.5650\n",
            "Epoch 6/10\n",
            "800/800 [==============================] - 2s 2ms/sample - loss: 7.3317e-04 - acc: 1.0000 - val_loss: 2.4654 - val_acc: 0.5650\n",
            "Epoch 7/10\n",
            "800/800 [==============================] - 2s 2ms/sample - loss: 5.3305e-04 - acc: 1.0000 - val_loss: 2.5673 - val_acc: 0.5700\n",
            "Epoch 8/10\n",
            "800/800 [==============================] - 2s 2ms/sample - loss: 4.0219e-04 - acc: 1.0000 - val_loss: 2.6573 - val_acc: 0.5700\n",
            "Epoch 9/10\n",
            "800/800 [==============================] - 2s 2ms/sample - loss: 3.1261e-04 - acc: 1.0000 - val_loss: 2.7347 - val_acc: 0.5700\n",
            "Epoch 10/10\n",
            "800/800 [==============================] - 2s 3ms/sample - loss: 2.4818e-04 - acc: 1.0000 - val_loss: 2.8060 - val_acc: 0.5700\n"
          ]
        },
        {
          "output_type": "display_data",
          "data": {
            "text/plain": [
              "<Figure size 640x480 with 1 Axes>"
            ],
            "image/png": "[encoded data removed]"
          },
          "metadata": {}
        }
      ]
    },
    {
      "cell_type": "code",
      "source": [
        "# Print example data\n",
        "print(\"Example Data:\")\n",
        "print(train_x)\n",
        "print(\"Example Labels:\")\n",
        "print(train_y)"
      ],
      "metadata": {
        "colab": {
          "base_uri": "https://localhost:8080/"
        },
        "id": "DJm_oRhbLdv3",
        "outputId": "76f49f68-77b3-4b2d-a63e-44fdffcd9147"
      },
      "execution_count": 48,
      "outputs": [
        {
          "output_type": "stream",
          "name": "stdout",
          "text": [
            "Example Data:\n",
            "[[6898 3079 1456 ... 1594 6989 2215]\n",
            " [1388 4486 8665 ... 5412 4459 6028]\n",
            " [9897 6249 8519 ... 4691 2852 5389]\n",
            " ...\n",
            " [3129 7293 2939 ... 7970 7963 9910]\n",
            " [9593 9216 6246 ... 5151 5750 2456]\n",
            " [6425 9007 5630 ... 4952 4834  226]]\n",
            "Example Labels:\n",
            "[1 1 1 0 1 1 1 1 0 0 1 1 1 0 0 1 1 0 0 1 0 1 0 0 0 0 1 1 0 0 1 0 1 0 1 0 0\n",
            " 1 1 0 0 1 0 0 0 0 1 0 0 0 0 0 1 0 0 1 0 1 1 1 0 0 0 1 1 0 0 0 1 0 1 1 1 1\n",
            " 1 1 1 0 0 1 0 0 0 0 1 0 0 1 1 1 0 0 0 0 1 1 0 0 1 1 0 1 0 0 1 0 0 0 0 0 0\n",
            " 0 0 0 0 0 0 1 1 0 0 1 0 1 1 0 1 1 0 0 0 0 0 0 0 0 0 0 1 0 0 0 1 1 0 0 0 0\n",
            " 1 1 1 0 0 1 0 0 0 0 1 0 0 0 1 1 0 0 1 0 0 1 0 0 1 1 0 0 1 1 1 0 1 1 0 1 0\n",
            " 0 1 0 1 0 1 1 0 1 1 1 0 1 1 0 0 1 0 1 0 0 1 0 1 0 1 0 0 0 0 0 1 1 0 0 0 0\n",
            " 0 1 0 0 0 1 1 0 1 0 1 1 1 0 0 1 0 0 0 0 1 0 1 1 0 1 0 0 1 1 0 0 1 0 0 0 0\n",
            " 0 0 1 0 0 1 1 1 1 1 0 1 0 0 1 1 0 1 0 0 1 0 1 0 0 0 0 0 0 1 0 1 0 1 0 0 1\n",
            " 0 0 0 0 0 1 1 0 0 0 0 0 0 1 0 0 0 0 0 1 1 0 0 0 1 1 0 1 1 1 0 0 1 0 0 0 0\n",
            " 0 0 1 0 0 0 0 1 1 1 0 0 1 0 1 0 1 1 1 1 1 1 1 0 1 1 1 0 1 0 1 0 0 0 0 0 0\n",
            " 1 0 1 0 1 0 1 1 1 1 0 1 0 1 0 0 0 0 0 1 1 1 0 1 1 0 0 1 0 1 1 0 0 0 0 1 1\n",
            " 1 1 0 1 0 0 1 1 0 0 0 1 1 1 0 0 1 1 1 1 0 0 0 1 0 1 0 0 0 1 0 1 1 1 0 1 0\n",
            " 0 0 0 0 1 1 1 0 0 0 1 1 0 1 0 0 0 1 1 0 1 1 1 1 0 1 0 1 1 0 0 0 1 0 1 0 0\n",
            " 1 1 0 0 0 0 0 0 0 1 0 1 1 1 0 1 1 1 1 1 0 0 0 0 1 1 1 0 0 0 0 0 0 0 1 0 0\n",
            " 1 0 0 0 0 0 1 1 1 0 0 1 0 1 1 1 1 0 0 1 1 0 0 0 0 1 1 0 1 1 0 0 1 0 0 0 1\n",
            " 0 1 0 1 0 1 1 0 1 1 1 0 0 0 1 0 1 1 0 0 1 0 1 1 1 1 1 0 1 1 1 0 0 1 1 0 1\n",
            " 1 0 0 0 0 0 0 1 1 1 0 1 1 0 0 0 1 0 1 1 1 1 0 1 0 0 0 0 0 1 0 0 0 1 0 1 1\n",
            " 1 0 0 0 0 1 0 0 0 1 0 0 0 1 1 0 0 1 1 1 1 0 0 1 1 1 1 0 1 1 0 0 0 0 0 0 0\n",
            " 0 0 0 0 0 1 1 0 1 0 1 0 0 0 0 1 1 1 0 0 0 1 0 1 1 1 1 1 0 1 1 0 1 1 0 1 0\n",
            " 1 0 1 0 1 1 0 0 1 0 1 1 1 1 0 0 1 0 1 1 0 0 1 1 0 0 0 1 0 1 0 1 1 1 0 0 1\n",
            " 0 1 0 0 0 1 1 0 1 0 1 0 0 1 1 1 1 1 0 0 1 1 0 0 0 0 1 1 0 1 1 0 0 0 0 0 1\n",
            " 0 0 0 0 0 0 0 0 1 0 0 0 1 0 1 0 1 1 1 1 0 1 0 1 0 0 1 0 0 1 1 0 1 1 0 1 1\n",
            " 0 1 1 0 1 0 0 0 0 0 0 0 1 0 0 1 0 0 0 0 0 0 0 0 1 0 1 0 1 1 1 0 0 1 0 1 1\n",
            " 0 0 1 1 1 0 0 0 1 1 0 1 1 0 0 1 0 0 0 1 1 1 0 0 0 1 1 1 1 1 0 0 0 0 1 0 1\n",
            " 1 1 1 1 0 1 1 1 1 0 0 0 1 1 0 0 1 1 0 1 0 0 1 1 0 1 0 0 0 0 0 1 0 0 0 0 0\n",
            " 1 0 1 0 0 0 1 1 0 1 1 0 0 0 1 0 1 1 0 0 0 1 1 1 1 1 1 0 0 0 0 1 1 1 1 0 0\n",
            " 0 0 0 0 1 1 0 1 1 0 0 1 0 0 1 0 0 1 1 1 0 0 1 0 0 1 1 1 1 1 1 0 0 0 1 1 1\n",
            " 1]\n"
          ]
        }
      ]
    }
  ],
  "metadata": {
    "kernelspec": {
      "display_name": "Python 3",
      "language": "python",
      "name": "python3"
    },
    "language_info": {
      "codemirror_mode": {
        "name": "ipython",
        "version": 3
      },
      "file_extension": ".py",
      "mimetype": "text/x-python",
      "name": "python",
      "nbconvert_exporter": "python",
      "pygments_lexer": "ipython3",
      "version": "3.6.6"
    },
    "colab": {
      "provenance": [],
      "include_colab_link": true
    }
  },
  "nbformat": 4,
  "nbformat_minor": 0
}